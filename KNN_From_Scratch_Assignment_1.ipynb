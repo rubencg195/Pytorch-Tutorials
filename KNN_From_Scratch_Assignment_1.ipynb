{
  "nbformat": 4,
  "nbformat_minor": 0,
  "metadata": {
    "colab": {
      "name": "KNN From Scratch - Assignment #1.ipynb",
      "version": "0.3.2",
      "provenance": [],
      "collapsed_sections": [],
      "include_colab_link": true
    },
    "kernelspec": {
      "name": "python3",
      "display_name": "Python 3"
    },
    "accelerator": "GPU"
  },
  "cells": [
    {
      "cell_type": "markdown",
      "metadata": {
        "id": "view-in-github",
        "colab_type": "text"
      },
      "source": [
        "<a href=\"https://colab.research.google.com/github/rubencg195/Pytorch-Tutorials/blob/master/KNN_From_Scratch_Assignment_1.ipynb\" target=\"_parent\"><img src=\"https://colab.research.google.com/assets/colab-badge.svg\" alt=\"Open In Colab\"/></a>"
      ]
    },
    {
      "metadata": {
        "id": "0t1YVMVFHOaT",
        "colab_type": "text"
      },
      "cell_type": "markdown",
      "source": [
        "# KNN From Scratch\n",
        "\n",
        "**Group Members:**\n",
        "\n",
        "1. Ruben Chevez\n",
        "2. Kratika Naskulwar\n",
        "\n",
        "*Code inspired in the following blog post*\n",
        "\n",
        "https://machinelearningmastery.com/tutorial-to-implement-k-nearest-neighbors-in-python-from-scratch/"
      ]
    },
    {
      "metadata": {
        "id": "xMjGj3r1GiLS",
        "colab_type": "code",
        "colab": {}
      },
      "cell_type": "code",
      "source": [
        "#@title Hyperparameters\n",
        "k_distance = 3 #@param {type:\"number\"}\n",
        "\n",
        "traning_filename = 'train.csv' #@param {type:\"string\"}\n",
        "\n",
        "test_filename = 'test.csv' #@param {type:\"string\"}\n",
        "\n",
        "standalone_file = False #@param [\"False\", \"True\"] {type:\"raw\"}\n",
        "\n",
        "debug = True #@param [\"False\", \"True\"] {type:\"raw\"}\n",
        "\n"
      ],
      "execution_count": 0,
      "outputs": []
    },
    {
      "metadata": {
        "id": "P_jRpAf9IpWB",
        "colab_type": "text"
      },
      "cell_type": "markdown",
      "source": [
        "# Upload Traing Set\n"
      ]
    },
    {
      "metadata": {
        "id": "8ZKfUauyIT2R",
        "colab_type": "code",
        "outputId": "fe1300c3-d03a-437d-ba1c-23218cc3d37a",
        "colab": {
          "resources": {
            "http://localhost:8080/nbextensions/google.colab/files.js": {
              "data": "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",
              "ok": true,
              "headers": [
                [
                  "content-type",
                  "application/javascript"
                ]
              ],
              "status": 200,
              "status_text": ""
            }
          },
          "base_uri": "https://localhost:8080/",
          "height": 296
        }
      },
      "cell_type": "code",
      "source": [
        "if not standalone_file:\n",
        "  from google.colab import files\n",
        "  print(\"\\nUpload Traning Set\")\n",
        "  training_data = files.upload()\n",
        "\n",
        "  print(\"\\nUpload Test Set\")\n",
        "  test_data = files.upload()\n",
        "\n",
        "  for fn in training_data.keys():\n",
        "    traning_filename = fn\n",
        "    if debug:\n",
        "      print('\\n\\nUser uploaded file \"{name}\" with length {length} bytes'.format(\n",
        "        name=fn, length=len(training_data[fn])))\n",
        "\n",
        "  for fn in test_data.keys():\n",
        "    test_filename = fn\n",
        "    if debug:\n",
        "      print('\\n\\nUser uploaded file \"{name}\" with length {length} bytes'.format(\n",
        "        name=fn, length=len(test_data[fn])))\n",
        "else:\n",
        "  import sys\n",
        "  #Argument List: ['KNN.py', 'train.tsv', 'test.tsv', 'K']\n",
        "  python_filename    = sys.argv[0]\n",
        "  traning_filename   = sys.argv[1]\n",
        "  test_filename      = sys.argv[2]\n",
        "  k_distance         = sys.argv[3]\n",
        "  if debug:\n",
        "    print(\"Python Filename: {} \\nTraining Data Filename: {}\\nTest Data Filename {} \\n K: {} \".format( \n",
        "      python_filename,\n",
        "      traning_filename, \n",
        "      test_filename, \n",
        "      k_distance ))\n",
        "\n"
      ],
      "execution_count": 0,
      "outputs": [
        {
          "output_type": "stream",
          "text": [
            "\n",
            "Upload Traning Set\n"
          ],
          "name": "stdout"
        },
        {
          "output_type": "display_data",
          "data": {
            "text/html": [
              "\n",
              "     <input type=\"file\" id=\"files-e875839f-8553-48ba-8fb5-ae1a86e1ec18\" name=\"files[]\" multiple disabled />\n",
              "     <output id=\"result-e875839f-8553-48ba-8fb5-ae1a86e1ec18\">\n",
              "      Upload widget is only available when the cell has been executed in the\n",
              "      current browser session. Please rerun this cell to enable.\n",
              "      </output>\n",
              "      <script src=\"/nbextensions/google.colab/files.js\"></script> "
            ],
            "text/plain": [
              "<IPython.core.display.HTML object>"
            ]
          },
          "metadata": {
            "tags": []
          }
        },
        {
          "output_type": "stream",
          "text": [
            "Saving TrainingData_A1.tsv to TrainingData_A1 (3).tsv\n",
            "\n",
            "Upload Test Set\n"
          ],
          "name": "stdout"
        },
        {
          "output_type": "display_data",
          "data": {
            "text/html": [
              "\n",
              "     <input type=\"file\" id=\"files-fa830d0c-7369-495a-ae0d-ccecf6961b77\" name=\"files[]\" multiple disabled />\n",
              "     <output id=\"result-fa830d0c-7369-495a-ae0d-ccecf6961b77\">\n",
              "      Upload widget is only available when the cell has been executed in the\n",
              "      current browser session. Please rerun this cell to enable.\n",
              "      </output>\n",
              "      <script src=\"/nbextensions/google.colab/files.js\"></script> "
            ],
            "text/plain": [
              "<IPython.core.display.HTML object>"
            ]
          },
          "metadata": {
            "tags": []
          }
        },
        {
          "output_type": "stream",
          "text": [
            "Saving TestData_A1.tsv to TestData_A1 (3).tsv\n",
            "\n",
            "\n",
            "User uploaded file \"TrainingData_A1.tsv\" with length 9404 bytes\n",
            "\n",
            "\n",
            "User uploaded file \"TestData_A1.tsv\" with length 479 bytes\n"
          ],
          "name": "stdout"
        }
      ]
    },
    {
      "metadata": {
        "id": "WL19La6Ee2ES",
        "colab_type": "text"
      },
      "cell_type": "markdown",
      "source": [
        "# Importing the Data\n",
        "\n",
        "This section is to load the training and the test data files using read_csv function."
      ]
    },
    {
      "metadata": {
        "id": "Bp_P0pOHeymP",
        "colab_type": "code",
        "outputId": "ba82f246-f400-4663-85a5-98f9591ee2ef",
        "colab": {
          "base_uri": "https://localhost:8080/",
          "height": 370
        }
      },
      "cell_type": "code",
      "source": [
        "import pandas as pd\n",
        "\n",
        "train_data = pd.read_csv(traning_filename, sep='\\t')\n",
        "test_data  = pd.read_csv(test_filename, sep='\\t')\n",
        "\n",
        "if debug: \n",
        "  print(\"Traning Set Head \\n\\n\", train_data.head(5), \"\\n\")\n",
        "  print(\"Test Set Head \\n\\n\", test_data.head(5))\n",
        "  print(\"\\nType of Classes: \\n\\n\", pd.Series(train_data.as_matrix()[:,  -1], name='A').unique() )\n"
      ],
      "execution_count": 0,
      "outputs": [
        {
          "output_type": "stream",
          "text": [
            "Traning Set Head \n",
            "\n",
            "         RI     Na    Mg    Al     Si     K    Ca   Ba   Fe  Class\n",
            "0  1.52101  13.64  4.49  1.10  71.78  0.06  8.75  0.0  0.0      1\n",
            "1  1.51761  13.89  3.60  1.36  72.73  0.48  7.83  0.0  0.0      1\n",
            "2  1.51618  13.53  3.55  1.54  72.99  0.39  7.78  0.0  0.0      1\n",
            "3  1.51766  13.21  3.69  1.29  72.61  0.57  8.22  0.0  0.0      1\n",
            "4  1.51742  13.27  3.62  1.24  73.08  0.55  8.07  0.0  0.0      1 \n",
            "\n",
            "Test Set Head \n",
            "\n",
            "         RI     Na    Mg    Al     Si     K    Ca    Ba    Fe\n",
            "0  1.51847  13.10  3.97  1.19  72.44  0.60  8.43  0.00  0.00\n",
            "1  1.51567  13.29  3.45  1.21  72.74  0.56  8.57  0.00  0.00\n",
            "2  1.51918  14.04  3.58  1.37  72.08  0.56  8.30  0.00  0.00\n",
            "3  1.51811  12.96  2.96  1.43  72.92  0.60  8.79  0.14  0.00\n",
            "4  1.51660  12.99  3.18  1.23  72.97  0.58  8.81  0.00  0.24\n",
            "\n",
            "Type of Classes: \n",
            "\n",
            " [1. 2. 3. 5. 6. 7.]\n"
          ],
          "name": "stdout"
        }
      ]
    },
    {
      "metadata": {
        "id": "P7kiYEWn2V2J",
        "colab_type": "text"
      },
      "cell_type": "markdown",
      "source": [
        "# Training on Data"
      ]
    },
    {
      "metadata": {
        "id": "YmJ8jPuUly11",
        "colab_type": "code",
        "colab": {}
      },
      "cell_type": "code",
      "source": [
        "import math\n",
        "def euclideanDistance(instance1, instance2, length):\n",
        "\tdistance = 0\n",
        "\tfor x in range(length):\n",
        "\t\tdistance += pow((instance1[x] - instance2[x]), 2)\n",
        "\treturn math.sqrt(distance)\n",
        "\n",
        "import operator \n",
        "def getNeighbors(trainingSet, testInstance, k):\n",
        "\tdistances = []\n",
        "\tlength = len(testInstance)-1\n",
        "\tfor x in range(len(trainingSet)):\n",
        "\t\tdist = euclideanDistance(testInstance, trainingSet[x], length)\n",
        "\t\tdistances.append((trainingSet[x], dist))\n",
        "\tdistances.sort(key=operator.itemgetter(1))\n",
        "\tneighbors = []\n",
        "\tfor x in range(k):\n",
        "\t\tneighbors.append(distances[x][0])\n",
        "\treturn neighbors"
      ],
      "execution_count": 0,
      "outputs": []
    },
    {
      "metadata": {
        "id": "0Hgp7D702kUA",
        "colab_type": "code",
        "outputId": "5fb443f4-d1d4-47b0-ae1e-fe71fe09b8ab",
        "colab": {
          "base_uri": "https://localhost:8080/",
          "height": 151
        }
      },
      "cell_type": "code",
      "source": [
        "data1 = train_data.as_matrix(columns=None)[:][0]\n",
        "data2 = train_data.as_matrix(columns=None)[:][1]\n",
        "number_attr_cols = 9\n",
        "distance = euclideanDistance(data1, data2, number_attr_cols)\n",
        "\n",
        "\n",
        "if debug:\n",
        "  print(\"Calculating Distance for single instance\")\n",
        "  print(\"Data 1 : \", data1, \"\\n\")\n",
        "  print(\"Data 2 : \", data2, \"\\n\")\n",
        "  print( 'Distance: ' + repr(distance) )"
      ],
      "execution_count": 0,
      "outputs": [
        {
          "output_type": "stream",
          "text": [
            "Calculating Distance for single instance\n",
            "Data 1 :  [1.52101e+00 1.36400e+01 4.49000e+00 1.10000e+00 7.17800e+01 6.00000e-02\n",
            " 8.75000e+00 0.00000e+00 0.00000e+00 1.00000e+00] \n",
            "\n",
            "Data 2 :  [ 1.51761 13.89     3.6      1.36    72.73     0.48     7.83     0.\n",
            "  0.       1.     ] \n",
            "\n",
            "Distance: 1.687457128344304\n"
          ],
          "name": "stdout"
        }
      ]
    },
    {
      "metadata": {
        "id": "YeEzrSAd8KLE",
        "colab_type": "code",
        "outputId": "79d525dc-1cec-4fd2-c1c0-e9c66d8f045f",
        "colab": {
          "base_uri": "https://localhost:8080/",
          "height": 235
        }
      },
      "cell_type": "code",
      "source": [
        "# trainSet = [[2, 2, 2, 'a'], [4, 4, 4, 'b']]\n",
        "# testInstance = [5, 5, 5]\n",
        "\n",
        "trainSet = train_data.as_matrix(columns=None)\n",
        "testInstance = test_data.as_matrix(columns=None)[:][0]\n",
        "neighbors = getNeighbors(trainSet, testInstance, k_distance)\n",
        "\n",
        "if debug:\n",
        "  print(\"Test the getNeighbors function \\n\\n\")\n",
        "  print(\"Shape train set:     \", trainSet.shape  )\n",
        "  print(\"Shape test instance: \", testInstance.shape  )\n",
        "  print(\"\\nGet The Neighbors for one test instance based on the train set: \\n\\n\")\n",
        "  print(pd.DataFrame(neighbors, columns=[\"RI\",\"Na\",\"Mg\",\"Al\",\"Si\",\"K\",\"Ca\",\"Ba\",\"Fe\",\"Class\"]))"
      ],
      "execution_count": 0,
      "outputs": [
        {
          "output_type": "stream",
          "text": [
            "Test the getNeighbors function \n",
            "\n",
            "\n",
            "Shape train set:      (204, 10)\n",
            "Shape test instance:  (9,)\n",
            "\n",
            "Get The Neighbors for one test instance based on the train set: \n",
            "\n",
            "\n",
            "        RI     Na    Mg    Al     Si     K    Ca   Ba    Fe  Class\n",
            "0  1.51789  13.19  3.90  1.30  72.33  0.55  8.44  0.0  0.28    2.0\n",
            "1  1.51844  13.25  3.76  1.32  72.40  0.58  8.42  0.0  0.00    2.0\n",
            "2  1.51829  13.24  3.90  1.41  72.33  0.55  8.31  0.0  0.10    2.0\n"
          ],
          "name": "stdout"
        }
      ]
    },
    {
      "metadata": {
        "id": "c-E9A2dt-n37",
        "colab_type": "text"
      },
      "cell_type": "markdown",
      "source": [
        "# Response"
      ]
    },
    {
      "metadata": {
        "id": "wsUfhduC-y4t",
        "colab_type": "code",
        "colab": {}
      },
      "cell_type": "code",
      "source": [
        "def getResponse(neighbors):\n",
        "\tclassVotes = {}\n",
        "\tfor x in range(len(neighbors)):\n",
        "\t\tresponse = neighbors[x][-1]\n",
        "\t\tif response in classVotes:\n",
        "\t\t\tclassVotes[response] += 1\n",
        "\t\telse:\n",
        "\t\t\tclassVotes[response] = 1\n",
        "\tsortedVotes = sorted(classVotes.items(), key=operator.itemgetter(1), reverse=True)\n",
        "\treturn sortedVotes[0][0]"
      ],
      "execution_count": 0,
      "outputs": []
    },
    {
      "metadata": {
        "id": "pwtdYdH-Wez2",
        "colab_type": "code",
        "outputId": "1dd0f6a8-0215-499b-a3ac-64b06adc01b9",
        "colab": {
          "base_uri": "https://localhost:8080/",
          "height": 118
        }
      },
      "cell_type": "code",
      "source": [
        "response = getResponse(neighbors)\n",
        "\n",
        "if debug: \n",
        "  print(\"{} \\n\\n Belongs to Class: {}\".format(\n",
        "      pd.DataFrame(neighbors, columns=[\"RI\",\"Na\",\"Mg\",\"Al\",\"Si\",\"K\",\"Ca\",\"Ba\",\"Fe\",\"Class\"]), \n",
        "      str(int(response))\n",
        "  ))"
      ],
      "execution_count": 0,
      "outputs": [
        {
          "output_type": "stream",
          "text": [
            "        RI     Na    Mg    Al     Si     K    Ca   Ba    Fe  Class\n",
            "0  1.51789  13.19  3.90  1.30  72.33  0.55  8.44  0.0  0.28    2.0\n",
            "1  1.51844  13.25  3.76  1.32  72.40  0.58  8.42  0.0  0.00    2.0\n",
            "2  1.51829  13.24  3.90  1.41  72.33  0.55  8.31  0.0  0.10    2.0 \n",
            "\n",
            " Belongs to Class: 2\n"
          ],
          "name": "stdout"
        }
      ]
    },
    {
      "metadata": {
        "id": "gjY5tJd3fjZV",
        "colab_type": "text"
      },
      "cell_type": "markdown",
      "source": [
        "#Accuracy"
      ]
    },
    {
      "metadata": {
        "id": "n4AWX_yGfkg0",
        "colab_type": "code",
        "colab": {}
      },
      "cell_type": "code",
      "source": [
        "def getAccuracy(testSet, predictions):\n",
        "\tcorrect = 0\n",
        "\tfor x in range(len(testSet)):\n",
        "\t\tif testSet[x][-1] is predictions[x]:\n",
        "\t\t\tcorrect += 1\n",
        "\treturn (correct/float(len(testSet))) * 100.0"
      ],
      "execution_count": 0,
      "outputs": []
    },
    {
      "metadata": {
        "id": "r0K5MhbMfm4r",
        "colab_type": "code",
        "outputId": "bd074559-3d31-45f3-8825-f7e8d9b2b721",
        "colab": {
          "base_uri": "https://localhost:8080/",
          "height": 252
        }
      },
      "cell_type": "code",
      "source": [
        "trainingSet  = train_data.as_matrix(columns=None)\n",
        "testSet      = test_data.as_matrix(columns=None)\n",
        "\n",
        "\n",
        "# testSet    = [[1,1,1,'a'], [2,2,2,'a'], [3,3,3,'b']]\n",
        "# predictions = ['a', 'a', 'a']\n",
        "\n",
        "predictions=[]\n",
        "\n",
        "for x in range(len(testSet)):\n",
        "  neighbors = getNeighbors(trainingSet, testSet[x], k_distance)\n",
        "  result = getResponse(neighbors)\n",
        "  predictions.append(result)\n",
        "  print('{}\\t{}'.format( \n",
        "      str(int(result)),  \n",
        "      0\n",
        "      #', actual=' + repr(testSet[x][-1])\n",
        "  ))\n",
        "\n",
        "if debug:\n",
        "  print(\"\\nShape test set:       \",   testSet.shape )\n",
        "  print(\"\\nShape predictions set: \", len(predictions)  )\n",
        "\n",
        "accuracy = getAccuracy(testSet, predictions)\n",
        "#print('\\nAccuracy: ' + repr(accuracy) + '%')"
      ],
      "execution_count": 0,
      "outputs": [
        {
          "output_type": "stream",
          "text": [
            "2\t0\n",
            "1\t0\n",
            "2\t0\n",
            "1\t0\n",
            "1\t0\n",
            "1\t0\n",
            "3\t0\n",
            "5\t0\n",
            "7\t0\n",
            "1\t0\n",
            "\n",
            "Shape test set:        (10, 9)\n",
            "\n",
            "Shape predictions set:  10\n"
          ],
          "name": "stdout"
        }
      ]
    }
  ]
}
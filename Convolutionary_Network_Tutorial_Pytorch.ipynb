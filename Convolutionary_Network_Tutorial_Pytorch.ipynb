{
  "nbformat": 4,
  "nbformat_minor": 0,
  "metadata": {
    "colab": {
      "name": "Convolutionary Network Tutorial - Pytorch.ipynb",
      "version": "0.3.2",
      "provenance": [],
      "include_colab_link": true
    },
    "kernelspec": {
      "name": "python3",
      "display_name": "Python 3"
    },
    "accelerator": "GPU"
  },
  "cells": [
    {
      "cell_type": "markdown",
      "metadata": {
        "id": "view-in-github",
        "colab_type": "text"
      },
      "source": [
        "<a href=\"https://colab.research.google.com/github/rubencg195/Pytorch-Tutorials/blob/master/Convolutionary_Network_Tutorial_Pytorch.ipynb\" target=\"_parent\"><img src=\"https://colab.research.google.com/assets/colab-badge.svg\" alt=\"Open In Colab\"/></a>"
      ]
    },
    {
      "metadata": {
        "id": "Bl5Fc8yv2ddb",
        "colab_type": "text"
      },
      "cell_type": "markdown",
      "source": [
        "#Convolutionary Network Tutorial\n",
        "\n",
        "Source: \n",
        "\n",
        "1. https://blog.algorithmia.com/convolutional-neural-nets-in-pytorch/\n",
        "\n",
        "2. https://pytorch.org/tutorials/beginner/blitz/cifar10_tutorial.html\n",
        "\n",
        "3. https://adeshpande3.github.io/A-Beginner%27s-Guide-To-Understanding-Convolutional-Neural-Networks-Part-2/\n",
        "\n",
        "Theory: https://blog.algorithmia.com/introduction-to-computer-vision/\n",
        "\n",
        "**Convolution**\n",
        "\n",
        "The process of **Convolution**, which is the first filter applied as part of the feature engineering step. Think of convolution as applying a filter to our image. We pass over a mini image, usually called a **kernel**, and output the resulting filtered subset of our image. \n",
        "\n",
        "![alt text](http://deeplearning.stanford.edu/wiki/images/6/6c/Convolution_schematic.gif)\n",
        "Source: [Stanford Deep Learning](http://deeplearning.stanford.edu/wiki/index.php/Feature_extraction_using_convolution)\n",
        "\n",
        "Since an image is just a bunch of pixel values, in practice this means multiplying small parts of our input images by the filter. There are a few parameters that get adjusted here:\n",
        "\n",
        "*Filter Parameters:*\n",
        "\n",
        "1. **Kernel Size** – the size of the filter.\n",
        "2. **Kernel Type** – the values of the actual filter. Some examples include identity, edge detection, and sharpen.\n",
        "3. **Stride** – the rate at which the kernel passes over the input image. A stride of 2 moves the kernel in 2 pixel increments.\n",
        "4. **Padding** – we can add layers of 0s to the outside of the image in order to make sure that the kernel properly passes over the edges of the image.\n",
        "5. **Output Layers** – how many different kernels are applied to the image.\n",
        "\n",
        "\n",
        "The output of the convolution process is called the “**convolved feature**” or “**feature map**.” \n",
        "\n",
        "*Code: you’ll see the convolution step through the use of the torch.nn.Conv2d() function in Pytorch.*\n",
        "\n",
        "The resulting feature map can be viewed as a more optimal representation of the input image that’s more informative to the eventual neural network that the image will be passed through. In practice, convolution combined with the next two steps has been shown to greatly increase the accuracy of neural networks on images.\n",
        "\n",
        "**ReLU**\n",
        "\n",
        "Since the neural network forward pass is essentially a linear function (just multiplying inputs by weights and adding a bias), CNNs often add in a nonlinear function to help approximate such a relationship in the underlying data.\n",
        "\n",
        "![alt text](https://)\n",
        "\n",
        "The function most popular with CNNs is called ReLU and it’s extremely simple. ReLU stands for Rectified Linear Unit, and it just **converts all negative pixel values to 0**. The function itself is output = Max(0, input). There are other functions that can be used to add non-linearity, like tanh or softmax. But in CNNs, **ReLU is the most commonly used.**\n",
        "\n",
        "*Code: you’ll see the ReLU step through the use of the torch.nn.relu() function in Pytorch.*\n",
        "\n",
        "**Max Pooling**\n",
        "\n",
        "The last part of the feature engineering step in CNNs is pooling, and the name describes it pretty well: **we pass over sections of our image and pool them into the highest value in the section**. Depending on the size of the pool, this can greatly reduce the size of the feature set that we pass into the neural network.\n",
        "\n",
        "![Stanford](https://blog.algorithmia.com/wp-content/uploads/2018/03/word-image-5.png)\n",
        "\n",
        "*Note*: Max pooling also has a few of the same parameters as convolution that can be adjusted, like stride and padding. There are also other types of pooling that can be applied, like sum pooling or average pooling.\n",
        "\n",
        "*Code: you’ll see the Max Pooling step through the use of the torch.nn.MaxPool2d() function in Pytorch.*\n",
        "\n",
        "**Fully Connected Layers**\n",
        "\n",
        "After the above preprocessing steps are applied, the resulting image (which may end up looking nothing like the original!) is passed into the traditional neural network architecture. Designing the optimal neural network is beyond the scope of this post, and we’ll be using a simple 2 layer format with one hidden layer and one output layer.\n",
        "\n",
        "This part of the CNN is almost identical to any other standard neural network. The key to understanding CNNs is this: the driver of better accuracy is the steps we take to engineer better features, not the classifier we end up passing those values through. Convolution, ReLU, and max pooling prepare our data for the neural network in a way that extracts all the useful information they have in an efficient manner.\n",
        "\n",
        "*Code: you’ll see the forward pass step through the use of the torch.nn.Linear() function in Pytorch.*\n"
      ]
    },
    {
      "metadata": {
        "id": "ShQqs6xmc8Rv",
        "colab_type": "code",
        "colab": {}
      },
      "cell_type": "code",
      "source": [
        "# http://pytorch.org/\n",
        "from os.path import exists\n",
        "from wheel.pep425tags import get_abbr_impl, get_impl_ver, get_abi_tag\n",
        "platform = '{}{}-{}'.format(get_abbr_impl(), get_impl_ver(), get_abi_tag())\n",
        "cuda_output = !ldconfig -p|grep cudart.so|sed -e 's/.*\\.\\([0-9]*\\)\\.\\([0-9]*\\)$/cu\\1\\2/'\n",
        "accelerator = cuda_output[0] if exists('/dev/nvidia0') else 'cpu'\n",
        "\n",
        "!pip install -q http://download.pytorch.org/whl/{accelerator}/torch-0.4.1-{platform}-linux_x86_64.whl torchvision\n",
        "import torch"
      ],
      "execution_count": 0,
      "outputs": []
    },
    {
      "metadata": {
        "id": "JcYHL3Im-WD2",
        "colab_type": "text"
      },
      "cell_type": "markdown",
      "source": [
        "#Imports Hyperparameters\n",
        "\n"
      ]
    },
    {
      "metadata": {
        "id": "mp-1IBez-lPr",
        "colab_type": "code",
        "colab": {
          "base_uri": "https://localhost:8080/",
          "height": 35
        },
        "outputId": "2364202b-6f17-4dcf-c534-e3428cc6792b"
      },
      "cell_type": "code",
      "source": [
        "import numpy as np\n",
        "import torch\n",
        "import torchvision\n",
        "import torchvision.transforms as transforms\n",
        "\n",
        "#For reproducible results\n",
        "seed = 42\n",
        "np.random.seed(seed)\n",
        "torch.manual_seed(seed)"
      ],
      "execution_count": 82,
      "outputs": [
        {
          "output_type": "execute_result",
          "data": {
            "text/plain": [
              "<torch._C.Generator at 0x7f8e01376ab0>"
            ]
          },
          "metadata": {
            "tags": []
          },
          "execution_count": 82
        }
      ]
    },
    {
      "metadata": {
        "id": "y7uMxH4J-STf",
        "colab_type": "text"
      },
      "cell_type": "markdown",
      "source": [
        "\n",
        "#Gathering Data\n",
        "\n",
        "As with most Machine Learning projects, a minority of the code you end up writing has to do with actual statistics––*most is spent on gathering, cleaning, and readying your data for analysis. CNNs in Pytorch are no exception.*\n",
        "\n",
        "Things to have in mind:\n",
        "\n",
        "1. The **Compose()** Function allow for multiple transforms.\n",
        "2. **Transforms.ToTensor()** convert our PILImage to a tensor of shape\n",
        "3. **Transforms.Normalize(mean, std)** normalizes a tensor to a (mean, std) for (R, G, B)\n",
        "\n",
        "Steps: \n",
        "1. Download and transform the data.\n",
        "2. Define the labels for each imge (10).\n",
        "3. Define samplers for our images. These Pytorch objects will split all of the available training examples into training, test, and cross validation sets when we train our model later on."
      ]
    },
    {
      "metadata": {
        "id": "6esAJp73kOmM",
        "colab_type": "code",
        "colab": {
          "base_uri": "https://localhost:8080/",
          "height": 54
        },
        "outputId": "164252ac-723a-4d86-bd4a-451fc0c0fe25"
      },
      "cell_type": "code",
      "source": [
        "transform = transforms.Compose([\n",
        "    transforms.ToTensor(), \n",
        "    transforms.Normalize((0.5, 0.5, 0.5), (0.5, 0.5, 0.5))\n",
        "])\n",
        "\n",
        "train_set = torchvision.datasets.CIFAR10(\n",
        "    root='./cifardata', \n",
        "    train=True, \n",
        "    download=True, \n",
        "    transform=transform\n",
        ")\n",
        "\n",
        "test_set = torchvision.datasets.CIFAR10(\n",
        "    root='./cifardata', \n",
        "    train=False, \n",
        "    download=True, \n",
        "    transform=transform\n",
        ")\n",
        "\n",
        "classes = ('plane', 'car', 'bird', 'cat',\n",
        "           'deer', 'dog', 'frog', 'horse', 'ship', 'truck')\n",
        "\n",
        "\n",
        "\n",
        "from torch.utils.data.sampler import SubsetRandomSampler\n",
        "\n",
        "#Training\n",
        "n_training_samples = 20000\n",
        "train_sampler = SubsetRandomSampler(np.arange(n_training_samples, dtype=np.int64))\n",
        "\n",
        "#Validation\n",
        "n_val_samples = 5000\n",
        "val_sampler = SubsetRandomSampler(np.arange(n_training_samples, n_training_samples + n_val_samples, dtype=np.int64))\n",
        "\n",
        "#Test\n",
        "n_test_samples = 5000\n",
        "test_sampler = SubsetRandomSampler(np.arange(n_test_samples, dtype=np.int64))"
      ],
      "execution_count": 83,
      "outputs": [
        {
          "output_type": "stream",
          "text": [
            "Files already downloaded and verified\n",
            "Files already downloaded and verified\n"
          ],
          "name": "stdout"
        }
      ]
    },
    {
      "metadata": {
        "id": "bJeo1yXgZq90",
        "colab_type": "code",
        "colab": {}
      },
      "cell_type": "code",
      "source": [
        "#DataLoader takes in a dataset and a sampler for loading (num_workers deals with system level memory) \n",
        "def get_train_loader(batch_size):\n",
        "    train_loader = torch.utils.data.DataLoader(\n",
        "        train_set, \n",
        "        batch_size=batch_size,\n",
        "        sampler=train_sampler, num_workers=2\n",
        "    )\n",
        "    return(train_loader)\n",
        "\n",
        "#Test and validation loaders have constant batch sizes, so we can define them directly\n",
        "test_loader = torch.utils.data.DataLoader(test_set, batch_size=4, sampler=test_sampler, num_workers=2)\n",
        "val_loader = torch.utils.data.DataLoader(train_set, batch_size=128, sampler=val_sampler, num_workers=2)\n",
        "\n",
        "\n"
      ],
      "execution_count": 0,
      "outputs": []
    },
    {
      "metadata": {
        "id": "ClIHV1Xsw5CV",
        "colab_type": "code",
        "colab": {
          "base_uri": "https://localhost:8080/",
          "height": 658
        },
        "outputId": "b7acead4-6e62-4b77-950b-23e3850218da"
      },
      "cell_type": "code",
      "source": [
        "import matplotlib.pyplot as plt\n",
        "import numpy as np\n",
        "\n",
        "# functions to show an image\n",
        "\n",
        "\n",
        "def imshow(img):\n",
        "    img = img / 2 + 0.5     # unnormalize\n",
        "    npimg = img.numpy()\n",
        "    plt.imshow(np.transpose(npimg, (1, 2, 0)))\n",
        "\n",
        "\n",
        "# get some random training images\n",
        "dataiter = iter(get_train_loader(10))\n",
        "images, labels = dataiter.next()\n",
        "\n",
        "# show images\n",
        "imshow(torchvision.utils.make_grid(images))\n",
        "# print labels\n",
        "print(' '.join('%5s' % classes[labels[j]] for j in range(4)))"
      ],
      "execution_count": 85,
      "outputs": [
        {
          "output_type": "stream",
          "text": [
            "horse horse   dog  deer\n"
          ],
          "name": "stdout"
        },
        {
          "output_type": "stream",
          "text": [
            "Exception ignored in: <bound method _DataLoaderIter.__del__ of <torch.utils.data.dataloader._DataLoaderIter object at 0x7f8dc9e2d1d0>>\n",
            "Traceback (most recent call last):\n",
            "  File \"/usr/local/lib/python3.6/dist-packages/torch/utils/data/dataloader.py\", line 399, in __del__\n",
            "    self._shutdown_workers()\n",
            "  File \"/usr/local/lib/python3.6/dist-packages/torch/utils/data/dataloader.py\", line 378, in _shutdown_workers\n",
            "    self.worker_result_queue.get()\n",
            "  File \"/usr/lib/python3.6/multiprocessing/queues.py\", line 337, in get\n",
            "    return _ForkingPickler.loads(res)\n",
            "  File \"/usr/local/lib/python3.6/dist-packages/torch/multiprocessing/reductions.py\", line 151, in rebuild_storage_fd\n",
            "    fd = df.detach()\n",
            "  File \"/usr/lib/python3.6/multiprocessing/resource_sharer.py\", line 57, in detach\n",
            "    with _resource_sharer.get_connection(self._id) as conn:\n",
            "  File \"/usr/lib/python3.6/multiprocessing/resource_sharer.py\", line 87, in get_connection\n",
            "    c = Client(address, authkey=process.current_process().authkey)\n",
            "  File \"/usr/lib/python3.6/multiprocessing/connection.py\", line 493, in Client\n",
            "    answer_challenge(c, authkey)\n",
            "  File \"/usr/lib/python3.6/multiprocessing/connection.py\", line 737, in answer_challenge\n",
            "    response = connection.recv_bytes(256)        # reject large message\n",
            "  File \"/usr/lib/python3.6/multiprocessing/connection.py\", line 216, in recv_bytes\n",
            "    buf = self._recv_bytes(maxlength)\n",
            "  File \"/usr/lib/python3.6/multiprocessing/connection.py\", line 407, in _recv_bytes\n",
            "    buf = self._recv(4)\n",
            "  File \"/usr/lib/python3.6/multiprocessing/connection.py\", line 379, in _recv\n",
            "    chunk = read(handle, remaining)\n",
            "ConnectionResetError: [Errno 104] Connection reset by peer\n"
          ],
          "name": "stderr"
        },
        {
          "output_type": "display_data",
          "data": {
            "image/png": "[encoded data removed]",
            "text/plain": [
              "<matplotlib.figure.Figure at 0x7f8dc9da4f28>"
            ]
          },
          "metadata": {
            "tags": []
          }
        }
      ]
    },
    {
      "metadata": {
        "id": "WpqeaAexAuWS",
        "colab_type": "text"
      },
      "cell_type": "markdown",
      "source": [
        "#Designing a Neural Net in Pytorch\n",
        "\n",
        "Pytorch makes it pretty easy to implement all of those feature engineering steps that we described above. We’ll be making use of 4 major functions in our CNN class:\n",
        "\n",
        "1. **torch.nn.Conv2d(in_channels, out_channels, kernel_size, stride, padding)** – applies convolution\n",
        "2. **torch.nn.relu(x)** – applies ReLU\n",
        "3. **torch.nn.MaxPool2d(kernel_size, stride, padding)** – applies Max Pooling\n",
        "4.**torch.nn.Linear(in_features, out_features)** – fully connected layer (multiply inputs by learned weights)\n",
        "\n",
        "Writing CNN code in Pytorch can get a little complex, since everything is defined inside of one class. We’ll create a SimpleCNN class which inherits from the master torch.nn.Module class.\n",
        "\n",
        "\n"
      ]
    },
    {
      "metadata": {
        "id": "LG55TXzaAGpx",
        "colab_type": "code",
        "colab": {}
      },
      "cell_type": "code",
      "source": [
        "from torch.autograd import Variable\n",
        "import torch.nn.functional as F\n",
        "\n",
        "class SimpleCNN(torch.nn.Module):\n",
        "    \n",
        "    #Our batch shape for input x is (3, 32, 32)\n",
        "    \n",
        "    def __init__(self):\n",
        "        super(SimpleCNN, self).__init__()\n",
        "        \n",
        "        #Input channels = 3, output channels = 18\n",
        "        self.conv1 = torch.nn.Conv2d(3, 18, kernel_size=3, stride=1, padding=1)\n",
        "        self.pool = torch.nn.MaxPool2d(kernel_size=2, stride=2, padding=0)\n",
        "        \n",
        "        #4608 input features, 64 output features (see sizing flow below)\n",
        "        self.fc1 = torch.nn.Linear(18 * 16 * 16, 64)\n",
        "        \n",
        "        #64 input features, 10 output features for our 10 defined classes\n",
        "        self.fc2 = torch.nn.Linear(64, 10)\n",
        "        \n",
        "    def forward(self, x):\n",
        "        \n",
        "        #Computes the activation of the first convolution\n",
        "        #Size changes from (3, 32, 32) to (18, 32, 32)\n",
        "        x = F.relu(self.conv1(x))\n",
        "        \n",
        "        #Size changes from (18, 32, 32) to (18, 16, 16)\n",
        "        x = self.pool(x)\n",
        "        \n",
        "        #Reshape data to input to the input layer of the neural net\n",
        "        #Size changes from (18, 16, 16) to (1, 4608)\n",
        "        #Recall that the -1 infers this dimension from the other given dimension\n",
        "        x = x.view(-1, 18 * 16 *16)\n",
        "        \n",
        "        #Computes the activation of the first fully connected layer\n",
        "        #Size changes from (1, 4608) to (1, 64)\n",
        "        x = F.relu(self.fc1(x))\n",
        "        \n",
        "        #Computes the second fully connected layer (activation applied later)\n",
        "        #Size changes from (1, 64) to (1, 10)\n",
        "        x = self.fc2(x)\n",
        "        return(x)"
      ],
      "execution_count": 0,
      "outputs": []
    },
    {
      "metadata": {
        "id": "9WJyGEI8UI4e",
        "colab_type": "text"
      },
      "cell_type": "markdown",
      "source": [
        "We’re creating a SimpleCNN class with one class method: **forward**. The** forward()** *method computes a forward pass of the CNN, which includes the preprocessing steps we outlined above.* When an instance of the SimpleCNN class is created, we define internal functions to represent the layers of the net. During the forward pass we call these internal functions.\n",
        "\n",
        "One of the pesky parts about manually defining neural nets is that we need to specify the sizes of inputs and outputs at each part of the process. The comments should give some direction as to what’s happening with size changes at each step. In general, the output size for any dimension in our input set can be defined as:"
      ]
    },
    {
      "metadata": {
        "id": "9pWmE3rYU-TP",
        "colab_type": "code",
        "colab": {
          "base_uri": "https://localhost:8080/",
          "height": 74
        },
        "outputId": "015c0401-4988-4c3e-aa57-1d10189ac729"
      },
      "cell_type": "code",
      "source": [
        "def outputSize(in_size, kernel_size, stride, padding):\n",
        "    \n",
        "    output = int((in_size - kernel_size + 2*(padding)) / stride) + 1\n",
        "    \n",
        "    return (output)\n",
        "\n",
        " \n",
        "#Input (3, 32, 32) Conv, Output specified = 18 for batch size\n",
        "print((18,\n",
        "       outputSize(in_size=32, kernel_size=3, stride=1, padding=1),\n",
        "       outputSize(in_size=32, kernel_size=3, stride=1, padding=1),\n",
        "      ))\n",
        "\n",
        "#Input (18, 32, 32) MaxPooling\n",
        "print((18,\n",
        "       outputSize(in_size=32, kernel_size=2, stride=2, padding=0),\n",
        "       outputSize(in_size=32, kernel_size=2, stride=2, padding=0),\n",
        "      ))\n"
      ],
      "execution_count": 87,
      "outputs": [
        {
          "output_type": "stream",
          "text": [
            "(18, 32, 32)\n",
            "(18, 16, 16)\n"
          ],
          "name": "stdout"
        }
      ]
    },
    {
      "metadata": {
        "id": "BpG8EXZSVf7O",
        "colab_type": "text"
      },
      "cell_type": "markdown",
      "source": [
        "To use an example from our CNN, look at the max pooling layer. *The input dimension is (18, 32, 32*)–– using our formula applied to each of the final two dimensions (**the first dimension, or number of feature maps, remains unchanged during any pooling operation**), we get an *output size of (18, 16, 16).*"
      ]
    },
    {
      "metadata": {
        "id": "I_mw9zHmZab3",
        "colab_type": "text"
      },
      "cell_type": "markdown",
      "source": [
        "#Training\n",
        "\n",
        "Once we’ve defined the class for our CNN, we need to train the net itself. This is where neural network code gets interesting. If you’re working with more basic types of Machine Learning algorithms, you can usually get meaningful output in just a few lines of code. For example, implementing a Support Vector Machine in the sklearn Python package is as easy as:"
      ]
    },
    {
      "metadata": {
        "id": "vM8TZWbGZnrh",
        "colab_type": "code",
        "colab": {}
      },
      "cell_type": "code",
      "source": [
        "#Import the support vector machine module from the sklearn framework\n",
        "from sklearn import svm\n",
        "\n",
        "#Label x and y variables from our dataset\n",
        "#x = ourData.features\n",
        "#y = ourData.labels\n",
        "\n",
        "#Initialize our algorithm\n",
        "#classifier = svm.SVC()\n",
        "\n",
        "#Fit model to our data\n",
        "#classifier.fit(x,y)"
      ],
      "execution_count": 0,
      "outputs": []
    },
    {
      "metadata": {
        "id": "y-FnhNQlZoqm",
        "colab_type": "text"
      },
      "cell_type": "markdown",
      "source": [
        "With neural networks in **Pytorch (and TensorFlow)** though, it takes a bunch more code than that. Our basic flow is a \n",
        "1. training loop: each time we pass through the loop (called and “epoch”), we compute a forward pass on the network \n",
        "2. And implement backpropagation to adjust the weights. \n",
        "3. We’ll also record some other measurements like loss and time passed, so that we can analyze them as the net trains itself.\n",
        "\n",
        "To start, we’ll define our data loaders using the samplers we created above."
      ]
    },
    {
      "metadata": {
        "id": "7WEx9BqCZ8BW",
        "colab_type": "text"
      },
      "cell_type": "markdown",
      "source": [
        "We’ll also define our **loss and optimizer functions** that the CNN will use to find the right weights. We’ll be using \n",
        "\n",
        "1. **Cross Entropy Loss (Log Loss) as our loss function**, which ***strongly penalizes high confidence in the wrong answer.*** \n",
        "2. The optimizer is the popular **Adam algorithm**.\n",
        "\n",
        "\n"
      ]
    },
    {
      "metadata": {
        "id": "QfXtXjrGaavh",
        "colab_type": "code",
        "colab": {}
      },
      "cell_type": "code",
      "source": [
        "import torch.optim as optim\n",
        "\n",
        "def createLossAndOptimizer(net, learning_rate=0.001):\n",
        "    \n",
        "    #Loss function\n",
        "    loss = torch.nn.CrossEntropyLoss()\n",
        "    \n",
        "    #Optimizer\n",
        "    optimizer = optim.Adam(net.parameters(), lr=learning_rate)\n",
        "    \n",
        "    return(loss, optimizer)"
      ],
      "execution_count": 0,
      "outputs": []
    },
    {
      "metadata": {
        "id": "nIrm7a-HaaAy",
        "colab_type": "text"
      },
      "cell_type": "markdown",
      "source": [
        "Finally, we’ll define a function to train our CNN using a simple for loop."
      ]
    },
    {
      "metadata": {
        "id": "HxOGinI1af8z",
        "colab_type": "code",
        "colab": {}
      },
      "cell_type": "code",
      "source": [
        "import time\n",
        "\n",
        "def trainNet(net, batch_size, n_epochs, learning_rate):\n",
        "    \n",
        "    #Traning on GPU\n",
        "    device = torch.device(\"cuda:0\" if torch.cuda.is_available() else \"cpu\")\n",
        "    # Assume that we are on a CUDA machine, then this should print a CUDA device:\n",
        "    print(device)\n",
        "    \n",
        "    #For GPU Processing\n",
        "    net.to(device)\n",
        "    \n",
        "    \n",
        "    #Print all of the hyperparameters of the training iteration:\n",
        "    print(\"===== HYPERPARAMETERS =====\")\n",
        "    print(\"batch_size=\", batch_size)\n",
        "    print(\"epochs=\", n_epochs)\n",
        "    print(\"learning_rate=\", learning_rate)\n",
        "    print(\"=\" * 30)\n",
        "    \n",
        "    #Get training data\n",
        "    train_loader = get_train_loader(batch_size)\n",
        "    n_batches = len(train_loader)\n",
        "    \n",
        "    #Create our loss and optimizer functions\n",
        "    loss, optimizer = createLossAndOptimizer(net, learning_rate)\n",
        "    \n",
        "    #Time for printing\n",
        "    training_start_time = time.time()\n",
        "    \n",
        "    #Loop for n_epochs\n",
        "    for epoch in range(n_epochs):\n",
        " \n",
        "        running_loss = 0.0\n",
        "        print_every = n_batches // 10\n",
        "        start_time = time.time()\n",
        "        total_train_loss = 0\n",
        "        \n",
        "        for i, data in enumerate(train_loader, 0):\n",
        "            \n",
        "            \n",
        "            #Get inputs\n",
        "            inputs, labels = data\n",
        "            \n",
        "            #For GPU Processsing\n",
        "            inputs, labels = inputs.to(device), labels.to(device)\n",
        "            \n",
        "            #Wrap them in a Variable object\n",
        "            inputs, labels = Variable(inputs), Variable(labels)\n",
        "            \n",
        "            #Set the parameter gradients to zero\n",
        "            optimizer.zero_grad()\n",
        "            \n",
        "            #Forward pass, backward pass, optimize\n",
        "            outputs = net(inputs)\n",
        "            loss_size = loss(outputs, labels)\n",
        "            loss_size.backward()\n",
        "            optimizer.step()\n",
        "            \n",
        "            #Print statistics\n",
        "            running_loss += loss_size.data[0]\n",
        "            total_train_loss += loss_size.data[0]\n",
        "            \n",
        "            #Print every 10th batch of an epoch\n",
        "            if (i + 1) % (print_every + 1) == 0:\n",
        "                print(\"Epoch {}, {:d}% \\t train_loss: {:.2f} took: {:.2f}s\".format(\n",
        "                        epoch+1, int(100 * (i+1) / n_batches), running_loss / print_every, time.time() - start_time))\n",
        "                #Reset running loss and time\n",
        "                running_loss = 0.0\n",
        "                start_time = time.time()\n",
        "            \n",
        "        #At the end of the epoch, do a pass on the validation set\n",
        "        total_val_loss = 0\n",
        "        for inputs, labels in val_loader:\n",
        "            \n",
        "            #Wrap tensors in Variables\n",
        "            inputs, labels = Variable(inputs), Variable(labels)\n",
        "            \n",
        "            #For GPU Processsing\n",
        "            inputs, labels = inputs.to(device), labels.to(device)\n",
        "            \n",
        "            #Forward pass\n",
        "            val_outputs = net(inputs)\n",
        "            val_loss_size = loss(val_outputs, labels)\n",
        "            total_val_loss += val_loss_size.data[0]\n",
        "            \n",
        "        print(\"Validation loss = {:.2f}\".format(total_val_loss / len(val_loader)))\n",
        "        \n",
        "    print(\"Training finished, took {:.2f}s\".format(time.time() - training_start_time))"
      ],
      "execution_count": 0,
      "outputs": []
    },
    {
      "metadata": {
        "id": "chGqe2k-aaFJ",
        "colab_type": "text"
      },
      "cell_type": "markdown",
      "source": [
        "\n",
        "During each epoch of training, we pass data to the model in batches whose size we define when we call the training loop. Data is feature engineered using the SimpleCNN class we’ve defined, and then basic metrics are printed after a few passes. During each loop, we also calculate the loss on our validation set.\n",
        "\n",
        "\n",
        "To actually train the net now only requires two lines of code:\n",
        "\n",
        "\n"
      ]
    },
    {
      "metadata": {
        "id": "wc79YFcfaupI",
        "colab_type": "code",
        "colab": {
          "base_uri": "https://localhost:8080/",
          "height": 1128
        },
        "outputId": "429ec2b5-7c0f-4660-f413-fd184ac25d6d"
      },
      "cell_type": "code",
      "source": [
        "CNN = SimpleCNN()\n",
        "trainNet(CNN, batch_size=32, n_epochs=5, learning_rate=0.001)"
      ],
      "execution_count": 91,
      "outputs": [
        {
          "output_type": "stream",
          "text": [
            "cuda:0\n",
            "===== HYPERPARAMETERS =====\n",
            "batch_size= 32\n",
            "epochs= 5\n",
            "learning_rate= 0.001\n",
            "==============================\n"
          ],
          "name": "stdout"
        },
        {
          "output_type": "stream",
          "text": [
            "/usr/local/lib/python3.6/dist-packages/ipykernel_launcher.py:61: UserWarning: invalid index of a 0-dim tensor. This will be an error in PyTorch 0.5. Use tensor.item() to convert a 0-dim tensor to a Python number\n",
            "/usr/local/lib/python3.6/dist-packages/ipykernel_launcher.py:62: UserWarning: invalid index of a 0-dim tensor. This will be an error in PyTorch 0.5. Use tensor.item() to convert a 0-dim tensor to a Python number\n"
          ],
          "name": "stderr"
        },
        {
          "output_type": "stream",
          "text": [
            "Epoch 1, 10% \t train_loss: 2.06 took: 0.72s\n",
            "Epoch 1, 20% \t train_loss: 1.87 took: 0.62s\n",
            "Epoch 1, 30% \t train_loss: 1.79 took: 0.60s\n",
            "Epoch 1, 40% \t train_loss: 1.70 took: 0.63s\n",
            "Epoch 1, 50% \t train_loss: 1.63 took: 0.60s\n",
            "Epoch 1, 60% \t train_loss: 1.58 took: 0.63s\n",
            "Epoch 1, 70% \t train_loss: 1.52 took: 0.63s\n",
            "Epoch 1, 80% \t train_loss: 1.47 took: 0.62s\n",
            "Epoch 1, 90% \t train_loss: 1.46 took: 0.63s\n"
          ],
          "name": "stdout"
        },
        {
          "output_type": "stream",
          "text": [
            "/usr/local/lib/python3.6/dist-packages/ipykernel_launcher.py:85: UserWarning: invalid index of a 0-dim tensor. This will be an error in PyTorch 0.5. Use tensor.item() to convert a 0-dim tensor to a Python number\n"
          ],
          "name": "stderr"
        },
        {
          "output_type": "stream",
          "text": [
            "Validation loss = 1.33\n",
            "Epoch 2, 10% \t train_loss: 1.40 took: 0.74s\n",
            "Epoch 2, 20% \t train_loss: 1.41 took: 0.62s\n",
            "Epoch 2, 30% \t train_loss: 1.31 took: 0.62s\n",
            "Epoch 2, 40% \t train_loss: 1.32 took: 0.61s\n",
            "Epoch 2, 50% \t train_loss: 1.35 took: 0.61s\n",
            "Epoch 2, 60% \t train_loss: 1.31 took: 0.63s\n",
            "Epoch 2, 70% \t train_loss: 1.30 took: 0.63s\n",
            "Epoch 2, 80% \t train_loss: 1.23 took: 0.60s\n",
            "Epoch 2, 90% \t train_loss: 1.31 took: 0.62s\n",
            "Validation loss = 1.28\n",
            "Epoch 3, 10% \t train_loss: 1.20 took: 0.72s\n",
            "Epoch 3, 20% \t train_loss: 1.16 took: 0.60s\n",
            "Epoch 3, 30% \t train_loss: 1.23 took: 0.59s\n",
            "Epoch 3, 40% \t train_loss: 1.23 took: 0.61s\n",
            "Epoch 3, 50% \t train_loss: 1.18 took: 0.60s\n",
            "Epoch 3, 60% \t train_loss: 1.18 took: 0.59s\n",
            "Epoch 3, 70% \t train_loss: 1.19 took: 0.60s\n",
            "Epoch 3, 80% \t train_loss: 1.18 took: 0.62s\n",
            "Epoch 3, 90% \t train_loss: 1.21 took: 0.60s\n",
            "Validation loss = 1.27\n",
            "Epoch 4, 10% \t train_loss: 1.11 took: 0.72s\n",
            "Epoch 4, 20% \t train_loss: 1.07 took: 0.61s\n",
            "Epoch 4, 30% \t train_loss: 1.09 took: 0.60s\n",
            "Epoch 4, 40% \t train_loss: 1.08 took: 0.60s\n",
            "Epoch 4, 50% \t train_loss: 1.12 took: 0.60s\n",
            "Epoch 4, 60% \t train_loss: 1.10 took: 0.59s\n",
            "Epoch 4, 70% \t train_loss: 1.14 took: 0.61s\n",
            "Epoch 4, 80% \t train_loss: 1.10 took: 0.61s\n",
            "Epoch 4, 90% \t train_loss: 1.06 took: 0.59s\n",
            "Validation loss = 1.21\n",
            "Epoch 5, 10% \t train_loss: 0.92 took: 0.73s\n",
            "Epoch 5, 20% \t train_loss: 1.00 took: 0.59s\n",
            "Epoch 5, 30% \t train_loss: 0.98 took: 0.61s\n",
            "Epoch 5, 40% \t train_loss: 1.01 took: 0.58s\n",
            "Epoch 5, 50% \t train_loss: 1.00 took: 0.60s\n",
            "Epoch 5, 60% \t train_loss: 1.06 took: 0.60s\n",
            "Epoch 5, 70% \t train_loss: 1.01 took: 0.58s\n",
            "Epoch 5, 80% \t train_loss: 1.02 took: 0.60s\n",
            "Epoch 5, 90% \t train_loss: 1.04 took: 0.60s\n",
            "Validation loss = 1.19\n",
            "Training finished, took 35.59s\n"
          ],
          "name": "stdout"
        }
      ]
    },
    {
      "metadata": {
        "id": "8OFe6H9nnWMo",
        "colab_type": "text"
      },
      "cell_type": "markdown",
      "source": [
        "#Second CNN Network"
      ]
    },
    {
      "metadata": {
        "id": "suWjNnj_pcIU",
        "colab_type": "code",
        "colab": {
          "base_uri": "https://localhost:8080/",
          "height": 54
        },
        "outputId": "2db249e8-af62-4fce-cd2c-d6d7ca4d11df"
      },
      "cell_type": "code",
      "source": [
        "#Input (18, 16, 16) Conv, Output specified = 18 for batch size\n",
        "print((18,\n",
        "       outputSize(in_size=16, kernel_size=3, stride=1, padding=1),\n",
        "       outputSize(in_size=16, kernel_size=3, stride=1, padding=1),\n",
        "      ))\n",
        "\n",
        "#Input (18, 16, 16) MaxPooling\n",
        "print((32,\n",
        "       outputSize(in_size=16, kernel_size=2, stride=2, padding=0),\n",
        "       outputSize(in_size=16, kernel_size=2, stride=2, padding=0),\n",
        "      ))"
      ],
      "execution_count": 92,
      "outputs": [
        {
          "output_type": "stream",
          "text": [
            "(18, 16, 16)\n",
            "(32, 8, 8)\n"
          ],
          "name": "stdout"
        }
      ]
    },
    {
      "metadata": {
        "id": "NpodJlTFoLks",
        "colab_type": "code",
        "colab": {}
      },
      "cell_type": "code",
      "source": [
        "from torch.autograd import Variable\n",
        "import torch.nn.functional as F\n",
        "\n",
        "class LessSimpleCNN(torch.nn.Module):\n",
        "    \n",
        "    #Our batch shape for input x is (3, 32, 32)\n",
        "    \n",
        "    def __init__(self):\n",
        "        super(LessSimpleCNN, self).__init__()\n",
        "        \n",
        "        #Input channels = 3, output channels = 18\n",
        "        self.conv1 = torch.nn.Conv2d(3, 18, kernel_size=3, stride=1, padding=1)\n",
        "        self.pool1 = torch.nn.MaxPool2d(kernel_size=2, stride=2, padding=0)\n",
        "        \n",
        "        #Input channels = 3, output channels = 18\n",
        "        self.conv2 = torch.nn.Conv2d(18, 18, kernel_size=3, stride=1, padding=1)\n",
        "        self.pool2 = torch.nn.MaxPool2d(kernel_size=2, stride=2, padding=0)\n",
        "        \n",
        "        #4608 input features, 64 output features (see sizing flow below)\n",
        "        self.fc1 = torch.nn.Linear(18 * 8 * 8, 120)\n",
        "        \n",
        "         #4608 input features, 64 output features (see sizing flow below)\n",
        "        self.fc2 = torch.nn.Linear(120, 200)\n",
        "        \n",
        "        #64 input features, 10 output features for our 10 defined classes\n",
        "        self.fc3 = torch.nn.Linear(200, 10)\n",
        "        \n",
        "    def forward(self, x):\n",
        "        \n",
        "        #Computes the activation of the first convolution\n",
        "        \n",
        "        #Size changes from (3, 32, 32) to (18, 32, 32)\n",
        "        x = F.relu(self.conv1(x))\n",
        "        #Size changes from (18, 32, 32) to (18, 16, 16)\n",
        "        x = self.pool1(x)\n",
        "        \n",
        "        #Size changes from (3, 32, 32) to (18, 32, 32)\n",
        "        x = F.relu(self.conv2(x))\n",
        "        #Size changes from (18, 32, 32) to (18, 8, 8)\n",
        "        x = self.pool2(x)\n",
        "        \n",
        "        #Reshape data to input to the input layer of the neural net\n",
        "        #Size changes from (18, 8, 8) to (1, 1152)\n",
        "        #Recall that the -1 infers this dimension from the other given dimension\n",
        "        x = x.view(-1, 18 * 8 * 8)\n",
        "        \n",
        "        #Computes the activation of the first fully connected layer\n",
        "        #Size changes from (1, 1152) to (1, 200)\n",
        "        x = F.relu(self.fc1(x))\n",
        "        \n",
        "        #Size changes from (1, 200) to (1, 120)\n",
        "        x = F.relu(self.fc2(x))\n",
        "        \n",
        "        #Computes the second fully connected layer (activation applied later)\n",
        "        #Size changes from (1, 120) to (1, 10)\n",
        "        x = self.fc3(x)\n",
        "        return(x)"
      ],
      "execution_count": 0,
      "outputs": []
    },
    {
      "metadata": {
        "id": "9bipAPZwoCPa",
        "colab_type": "code",
        "colab": {
          "base_uri": "https://localhost:8080/",
          "height": 1128
        },
        "outputId": "6757df0c-56b1-47a5-f9e4-afb177dedf5f"
      },
      "cell_type": "code",
      "source": [
        "CNN = LessSimpleCNN()\n",
        "trainNet(CNN, batch_size=32, n_epochs=5, learning_rate=0.001)"
      ],
      "execution_count": 117,
      "outputs": [
        {
          "output_type": "stream",
          "text": [
            "cuda:0\n",
            "===== HYPERPARAMETERS =====\n",
            "batch_size= 32\n",
            "epochs= 5\n",
            "learning_rate= 0.001\n",
            "==============================\n"
          ],
          "name": "stdout"
        },
        {
          "output_type": "stream",
          "text": [
            "/usr/local/lib/python3.6/dist-packages/ipykernel_launcher.py:61: UserWarning: invalid index of a 0-dim tensor. This will be an error in PyTorch 0.5. Use tensor.item() to convert a 0-dim tensor to a Python number\n",
            "/usr/local/lib/python3.6/dist-packages/ipykernel_launcher.py:62: UserWarning: invalid index of a 0-dim tensor. This will be an error in PyTorch 0.5. Use tensor.item() to convert a 0-dim tensor to a Python number\n"
          ],
          "name": "stderr"
        },
        {
          "output_type": "stream",
          "text": [
            "Epoch 1, 10% \t train_loss: 2.17 took: 0.60s\n",
            "Epoch 1, 20% \t train_loss: 1.97 took: 0.56s\n",
            "Epoch 1, 30% \t train_loss: 1.77 took: 0.75s\n",
            "Epoch 1, 40% \t train_loss: 1.65 took: 0.74s\n",
            "Epoch 1, 50% \t train_loss: 1.61 took: 0.71s\n",
            "Epoch 1, 60% \t train_loss: 1.54 took: 0.71s\n",
            "Epoch 1, 70% \t train_loss: 1.55 took: 0.70s\n",
            "Epoch 1, 80% \t train_loss: 1.49 took: 0.70s\n",
            "Epoch 1, 90% \t train_loss: 1.44 took: 0.72s\n"
          ],
          "name": "stdout"
        },
        {
          "output_type": "stream",
          "text": [
            "/usr/local/lib/python3.6/dist-packages/ipykernel_launcher.py:85: UserWarning: invalid index of a 0-dim tensor. This will be an error in PyTorch 0.5. Use tensor.item() to convert a 0-dim tensor to a Python number\n"
          ],
          "name": "stderr"
        },
        {
          "output_type": "stream",
          "text": [
            "Validation loss = 1.37\n",
            "Epoch 2, 10% \t train_loss: 1.40 took: 0.83s\n",
            "Epoch 2, 20% \t train_loss: 1.36 took: 0.70s\n",
            "Epoch 2, 30% \t train_loss: 1.27 took: 0.70s\n",
            "Epoch 2, 40% \t train_loss: 1.29 took: 0.68s\n",
            "Epoch 2, 50% \t train_loss: 1.30 took: 0.69s\n",
            "Epoch 2, 60% \t train_loss: 1.29 took: 0.69s\n",
            "Epoch 2, 70% \t train_loss: 1.30 took: 0.67s\n",
            "Epoch 2, 80% \t train_loss: 1.25 took: 0.72s\n",
            "Epoch 2, 90% \t train_loss: 1.23 took: 0.73s\n",
            "Validation loss = 1.22\n",
            "Epoch 3, 10% \t train_loss: 1.17 took: 0.81s\n",
            "Epoch 3, 20% \t train_loss: 1.15 took: 0.69s\n",
            "Epoch 3, 30% \t train_loss: 1.15 took: 0.68s\n",
            "Epoch 3, 40% \t train_loss: 1.16 took: 0.72s\n",
            "Epoch 3, 50% \t train_loss: 1.14 took: 0.69s\n",
            "Epoch 3, 60% \t train_loss: 1.15 took: 0.69s\n",
            "Epoch 3, 70% \t train_loss: 1.13 took: 0.70s\n",
            "Epoch 3, 80% \t train_loss: 1.17 took: 0.68s\n",
            "Epoch 3, 90% \t train_loss: 1.09 took: 0.69s\n",
            "Validation loss = 1.14\n",
            "Epoch 4, 10% \t train_loss: 1.03 took: 0.80s\n",
            "Epoch 4, 20% \t train_loss: 1.03 took: 0.67s\n",
            "Epoch 4, 30% \t train_loss: 1.02 took: 0.69s\n",
            "Epoch 4, 40% \t train_loss: 1.03 took: 0.69s\n",
            "Epoch 4, 50% \t train_loss: 1.06 took: 0.69s\n",
            "Epoch 4, 60% \t train_loss: 1.00 took: 0.70s\n",
            "Epoch 4, 70% \t train_loss: 1.01 took: 0.69s\n",
            "Epoch 4, 80% \t train_loss: 1.03 took: 0.70s\n",
            "Epoch 4, 90% \t train_loss: 1.01 took: 0.69s\n",
            "Validation loss = 1.06\n",
            "Epoch 5, 10% \t train_loss: 0.90 took: 0.81s\n",
            "Epoch 5, 20% \t train_loss: 0.92 took: 0.69s\n",
            "Epoch 5, 30% \t train_loss: 0.94 took: 0.70s\n",
            "Epoch 5, 40% \t train_loss: 0.93 took: 0.68s\n",
            "Epoch 5, 50% \t train_loss: 0.93 took: 0.69s\n",
            "Epoch 5, 60% \t train_loss: 0.91 took: 0.69s\n",
            "Epoch 5, 70% \t train_loss: 0.95 took: 0.68s\n",
            "Epoch 5, 80% \t train_loss: 0.91 took: 0.69s\n",
            "Epoch 5, 90% \t train_loss: 0.94 took: 0.69s\n",
            "Validation loss = 1.07\n",
            "Training finished, took 39.63s\n"
          ],
          "name": "stdout"
        }
      ]
    },
    {
      "metadata": {
        "id": "7zdlNMjiyPeu",
        "colab_type": "text"
      },
      "cell_type": "markdown",
      "source": [
        "#Test the Network"
      ]
    },
    {
      "metadata": {
        "id": "CzgECBsT2-p_",
        "colab_type": "code",
        "colab": {}
      },
      "cell_type": "code",
      "source": [
        "#Tensorboard - Pytorch (Soon)\n",
        "#https://github.com/lanpa/tensorboard-pytorch-examples/blob/master/imagenet/main.py"
      ],
      "execution_count": 0,
      "outputs": []
    },
    {
      "metadata": {
        "id": "wWiO-5doyOHA",
        "colab_type": "code",
        "colab": {
          "base_uri": "https://localhost:8080/",
          "height": 185
        },
        "outputId": "3d60abae-13a6-4125-e369-52c157eed58d"
      },
      "cell_type": "code",
      "source": [
        "dataiter = iter(test_loader)\n",
        "images, labels = dataiter.next()\n",
        "\n",
        "# print images\n",
        "imshow(torchvision.utils.make_grid(images))\n",
        "print('GroundTruth: ', ' '.join('%5s' % classes[labels[j]] for j in range(4)))"
      ],
      "execution_count": 123,
      "outputs": [
        {
          "output_type": "stream",
          "text": [
            "GroundTruth:   deer plane  ship  frog\n"
          ],
          "name": "stdout"
        },
        {
          "output_type": "display_data",
          "data": {
            "image/png": "[encoded data removed]",
            "text/plain": [
              "<matplotlib.figure.Figure at 0x7f8dc5d7c080>"
            ]
          },
          "metadata": {
            "tags": []
          }
        }
      ]
    },
    {
      "metadata": {
        "id": "BCA0C3g0zomY",
        "colab_type": "code",
        "colab": {
          "base_uri": "https://localhost:8080/",
          "height": 35
        },
        "outputId": "89db3062-c26b-472a-be82-6cdb7af4950e"
      },
      "cell_type": "code",
      "source": [
        "net = SimpleCNN()\n",
        "outputs = net(images)\n",
        "_, predicted = torch.max(outputs, 1)\n",
        "print('Predicted: ', ' '.join('%5s' % classes[predicted[j]]\n",
        "                              for j in range(4)))"
      ],
      "execution_count": 127,
      "outputs": [
        {
          "output_type": "stream",
          "text": [
            "Predicted:   deer plane plane  deer\n"
          ],
          "name": "stdout"
        }
      ]
    },
    {
      "metadata": {
        "id": "2yEJcZIJ0DCb",
        "colab_type": "code",
        "colab": {
          "base_uri": "https://localhost:8080/",
          "height": 35
        },
        "outputId": "462a7a50-14af-4b41-e4f2-b4cc9424fb35"
      },
      "cell_type": "code",
      "source": [
        "#Test in the whole dataset\n",
        "#Better than chance is 10% accuracy (randomly picking a class out of 10 classes). \n",
        "\n",
        "correct = 0\n",
        "total = 0\n",
        "with torch.no_grad():\n",
        "    for data in test_loader:\n",
        "        images, labels = data\n",
        "        outputs = net(images)\n",
        "        _, predicted = torch.max(outputs.data, 1)\n",
        "        total += labels.size(0)\n",
        "        correct += (predicted == labels).sum().item()\n",
        "\n",
        "print('Accuracy of the network on the 10000 test images: %d %%' % (\n",
        "    100 * correct / total))"
      ],
      "execution_count": 128,
      "outputs": [
        {
          "output_type": "stream",
          "text": [
            "Accuracy of the network on the 10000 test images: 11 %\n"
          ],
          "name": "stdout"
        }
      ]
    },
    {
      "metadata": {
        "id": "uJtytfAs0FRy",
        "colab_type": "code",
        "colab": {
          "base_uri": "https://localhost:8080/",
          "height": 199
        },
        "outputId": "fdb5542e-8a0b-456d-d4f8-43071292b0d7"
      },
      "cell_type": "code",
      "source": [
        "#Classes that performed well, and the classes that did not perform well:\n",
        "class_correct = list(0. for i in range(10))\n",
        "class_total = list(0. for i in range(10))\n",
        "with torch.no_grad():\n",
        "    for data in test_loader:\n",
        "        images, labels = data\n",
        "        outputs = net(images)\n",
        "        _, predicted = torch.max(outputs, 1)\n",
        "        c = (predicted == labels).squeeze()\n",
        "        for i in range(4):\n",
        "            label = labels[i]\n",
        "            class_correct[label] += c[i].item()\n",
        "            class_total[label] += 1\n",
        "\n",
        "\n",
        "for i in range(10):\n",
        "    print('Accuracy of %5s : %2d %%' % (\n",
        "        classes[i], 100 * class_correct[i] / class_total[i]))"
      ],
      "execution_count": 129,
      "outputs": [
        {
          "output_type": "stream",
          "text": [
            "Accuracy of plane : 76 %\n",
            "Accuracy of   car :  0 %\n",
            "Accuracy of  bird :  0 %\n",
            "Accuracy of   cat :  0 %\n",
            "Accuracy of  deer : 36 %\n",
            "Accuracy of   dog :  0 %\n",
            "Accuracy of  frog :  0 %\n",
            "Accuracy of horse :  0 %\n",
            "Accuracy of  ship :  0 %\n",
            "Accuracy of truck :  2 %\n"
          ],
          "name": "stdout"
        }
      ]
    }
  ]
}